{
  "cells": [
    {
      "cell_type": "markdown",
      "metadata": {
        "id": "view-in-github",
        "colab_type": "text"
      },
      "source": [
        "<a href=\"https://colab.research.google.com/github/houtianze/audiobook-generator/blob/master/convert-epub-to-audiobook.ipynb\" target=\"_parent\"><img src=\"https://colab.research.google.com/assets/colab-badge.svg\" alt=\"Open In Colab\"/></a>"
      ]
    },
    {
      "cell_type": "code",
      "source": [
        "### Install uv, need to run once only.\n",
        "\n",
        "!curl -LsSf https://astral.sh/uv/install.sh | sh\n",
        "\n",
        "%cd /content\n",
        "# Uncomment below to download the sample epub file for testing\n",
        "!curl -OL https://github.com/daisy/epub-accessibility-tests/releases/download/fundamental-2.0/Fundamental-Accessibility-Tests-Basic-Functionality-v2.0.0.epub"
      ],
      "metadata": {
        "id": "wcvPfJZvPWIM"
      },
      "execution_count": null,
      "outputs": []
    },
    {
      "cell_type": "code",
      "execution_count": null,
      "metadata": {
        "collapsed": true,
        "id": "ypAsHUvaJRvY"
      },
      "outputs": [],
      "source": [
        "### Download the repository and download dependencies\n",
        "\n",
        "%cd /content\n",
        "!rm -rf audiobook-generator\n",
        "!git clone https://github.com/houtianze/audiobook-generator.git\n",
        "%cd /content/audiobook-generator\n",
        "# Need to mute the output otherwise the browser will hang\n",
        "!uv sync > /dev/null 2>&1\n",
        "\n",
        "#!uv run -m audiobook_generator.main\n",
        "#!uv pip list\n",
        "\n",
        "### Below is some old script that can be ignored\n",
        "# Must install audiobook-generator first, torchvision and torchaudio later,\n",
        "# otherwise it doesn't work.\n",
        "#!pip install audiobook-generator\n",
        "#!pip install torchvision torchaudio\n",
        "\n",
        "#!abg 'your.epub'"
      ]
    },
    {
      "cell_type": "code",
      "execution_count": null,
      "metadata": {
        "id": "hR0vt7SpLn_7"
      },
      "outputs": [],
      "source": [
        "### The main script\n",
        "%cd /content/audiobook-generator\n",
        "\n",
        "import os\n",
        "from os import environ\n",
        "\n",
        "from IPython.display import Audio, display\n",
        "from google.colab import userdata\n",
        "\n",
        "environ['DROPBOX_TOKEN'] = userdata.get('DROPBOX_TOKEN')\n",
        "# Uncomment the following to configure the converstion\n",
        "# environ['VOICE'] = 'af_heart'\n",
        "# environ['SPEED'] = '1.0'\n",
        "# environ['FORMAT'] = 'mp3'\n",
        "# environ['RESUME'] = 'true'\n",
        "# environ['SPLIT_SUBSECTIONS'] = 'true'\n",
        "\n",
        "!uv run ipython_script.py\n",
        "\n",
        "# prompt: List all files that having extension 'mp3' or 'wav' in a directory recursively and render them as audio in this notebook.\n",
        "\n",
        "def list_and_play_audio(directory):\n",
        "    \"\"\"Lists all MP3 and WAV files in a directory recursively and renders them as audio.\"\"\"\n",
        "\n",
        "    for root, _, files in os.walk(directory):\n",
        "        for file in files:\n",
        "            if file.lower().endswith(('.mp3', '.wav')):\n",
        "                print(f\"Playing: {file}\")\n",
        "                file_path = os.path.join(root, file)\n",
        "                try:\n",
        "                    display(Audio(file_path, autoplay=False))\n",
        "                except Exception as e:\n",
        "                    print(f\"Error playing {file_path}: {e}\")\n",
        "\n",
        "directory = \"/content/audio_output\"\n",
        "list_and_play_audio(directory)\n"
      ]
    }
  ],
  "metadata": {
    "colab": {
      "provenance": [],
      "private_outputs": true,
      "include_colab_link": true
    },
    "kernelspec": {
      "display_name": "Python 3",
      "name": "python3"
    },
    "language_info": {
      "name": "python"
    }
  },
  "nbformat": 4,
  "nbformat_minor": 0
}
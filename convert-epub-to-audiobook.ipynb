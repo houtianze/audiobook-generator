{
  "cells": [
    {
      "cell_type": "code",
      "execution_count": null,
      "metadata": {
        "collapsed": true,
        "id": "ypAsHUvaJRvY"
      },
      "outputs": [],
      "source": [
        "### Preparation\n",
        "!curl -LsSf https://astral.sh/uv/install.sh | sh\n",
        "!rm -rf audiobook-generator\n",
        "!git clone https://github.com/houtianze/audiobook-generator.git\n",
        "%cd audiobook-generator\n",
        "# Need to mute the output otherwise the browser will hang\n",
        "!uv sync > /dev/null 2>&1\n",
        "\n",
        "### Below is some old script that can be ignored\n",
        "# Must install audiobook-generator first, torchvision and torchaudio later,\n",
        "# otherwise it doesn't work.\n",
        "#!pip install audiobook-generator\n",
        "#!pip install torchvision torchaudio\n",
        "\n",
        "#!abg 'your.epub' ."
      ]
    },
    {
      "cell_type": "code",
      "execution_count": null,
      "metadata": {
        "id": "hR0vt7SpLn_7"
      },
      "outputs": [],
      "source": [
        "### The main script\n",
        "from os import environ\n",
        "from google.colab import userdata\n",
        "\n",
        "environ['XXXDROPBOX_TOKEN'] = userdata.get('DROPBOX_TOKEN')\n",
        "#!uv run -m audiobook_generator.main\n",
        "!uv run ipython_script.py"
      ]
    },
    {
      "cell_type": "code",
      "execution_count": null,
      "metadata": {
        "id": "rqFZJpnnXp4k"
      },
      "outputs": [],
      "source": [
        "from os import environ\n",
        "# Change the following to your book output path.\n",
        "environ['output']='Comet in our Sky - Poh Soo Kai'\n",
        "\n",
        "output=environ['output']\n",
        "!zip -r \"$output.zip\" \"$output\"\n",
        "\n",
        "# prompt: List all mp3 files within a given directory and display them as audio.\n",
        "import os\n",
        "from IPython.display import Audio, display\n",
        "\n",
        "# Specify the directory to search for MP3 files\n",
        "directory = output\n",
        "\n",
        "# List all MP3 files in the directory\n",
        "mp3_files = [f for f in os.listdir(directory) if f.endswith('.mp3')]\n",
        "\n",
        "# Display each MP3 file as audio\n",
        "for mp3_file in mp3_files:\n",
        "    file_path = os.path.join(directory, mp3_file)\n",
        "    try:\n",
        "        display(Audio(file_path, autoplay=False)) # autoplay=False to prevent automatic playback of all files\n",
        "    except Exception as e:\n",
        "        print(f\"Error playing {mp3_file}: {e}\")"
      ]
    }
  ],
  "metadata": {
    "colab": {
      "provenance": [],
      "private_outputs": true
    },
    "kernelspec": {
      "display_name": "Python 3",
      "name": "python3"
    },
    "language_info": {
      "name": "python"
    }
  },
  "nbformat": 4,
  "nbformat_minor": 0
}